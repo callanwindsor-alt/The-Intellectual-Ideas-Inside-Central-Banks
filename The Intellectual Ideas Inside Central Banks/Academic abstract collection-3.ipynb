{
 "cells": [
  {
   "cell_type": "markdown",
   "metadata": {},
   "source": [
    "# Academic abstract collection"
   ]
  },
  {
   "cell_type": "code",
   "execution_count": 1,
   "metadata": {},
   "outputs": [],
   "source": [
    "# import sys\n",
    "# !{sys.executable} -m pip install nltk\n",
    "# # !{sys.executable} -m pip install wordcloud\n",
    "from bs4 import BeautifulSoup\n",
    "import requests\n",
    "from bs4 import NavigableString\n",
    "import queue\n",
    "from concurrent.futures import ThreadPoolExecutor\n",
    "import itertools\n",
    "import threading\n",
    "import csv\n",
    "import pandas as pd \n",
    "import matplotlib.pyplot as plt\n",
    "from wordcloud import WordCloud, STOPWORDS\n",
    "import numpy as np\n",
    "import re\n",
    "import requests\n",
    "from requests.adapters import HTTPAdapter\n",
    "from requests.packages.urllib3.util.retry import Retry"
   ]
  },
  {
   "cell_type": "markdown",
   "metadata": {},
   "source": [
    "## Downfree html links"
   ]
  },
  {
   "cell_type": "markdown",
   "metadata": {},
   "source": [
    "### Function (1)\n",
    "**Return a list with a link to each paper**\n",
    "* NB: This is for a single page"
   ]
  },
  {
   "cell_type": "code",
   "execution_count": 2,
   "metadata": {},
   "outputs": [],
   "source": [
    "def get_links(soup):  \n",
    "    \n",
    "    papers = []\n",
    "    for paper in soup.findAll(\"li\",class_=\"list-group-item downfree\"):\n",
    "        papers.append(\"https://ideas.repec.org\"+paper.a.get('href'))\n",
    "                \n",
    "    return(papers)"
   ]
  },
  {
   "cell_type": "markdown",
   "metadata": {},
   "source": [
    "### Function (2)\n",
    "**Soup the necessary URL and call Function (1) to return the list of links**"
   ]
  },
  {
   "cell_type": "code",
   "execution_count": 3,
   "metadata": {},
   "outputs": [],
   "source": [
    "def parse_links(START_URL):\n",
    "    \n",
    "    page   = requests.get(START_URL)\n",
    "    soup   = BeautifulSoup(page.text, 'html.parser')\n",
    "    links = get_links(soup)\n",
    "\n",
    "    return links"
   ]
  },
  {
   "cell_type": "code",
   "execution_count": 4,
   "metadata": {},
   "outputs": [],
   "source": [
    "links = parse_links(\"https://ideas.repec.org/s/aea/aecrev.html\") # American Economic Review\n",
    "links.extend(parse_links(\"https://ideas.repec.org/s/aea/aecrev2.html\"))\n",
    "links.extend(parse_links(\"https://ideas.repec.org/s/aea/aecrev3.html\"))\n",
    "links.extend(parse_links(\"https://ideas.repec.org/s/aea/aecrev4.html\"))\n",
    "links.extend(parse_links(\"https://ideas.repec.org/s/aea/aecrev5.html\"))\n",
    "links.extend(parse_links(\"https://ideas.repec.org/s/aea/aecrev6.html\"))\n",
    "links.extend(parse_links(\"https://ideas.repec.org/s/aea/aecrev7.html\"))\n",
    "links.extend(parse_links(\"https://ideas.repec.org/s/aea/aecrev8.html\"))\n",
    "links.extend(parse_links(\"https://ideas.repec.org/s/aea/aecrev9.html\"))\n",
    "links.extend(parse_links(\"https://ideas.repec.org/s/aea/aecrev10.html\"))\n",
    "links.extend(parse_links(\"https://ideas.repec.org/s/aea/aecrev11.html\"))\n",
    "links.extend(parse_links(\"https://ideas.repec.org/s/aea/aecrev12.html\"))\n",
    "links.extend(parse_links(\"https://ideas.repec.org/s/aea/aecrev13.html\"))\n",
    "links.extend(parse_links(\"https://ideas.repec.org/s/aea/aecrev14.html\"))\n",
    "links.extend(parse_links(\"https://ideas.repec.org/s/aea/aecrev15.html\"))\n",
    "links.extend(parse_links(\"https://ideas.repec.org/s/aea/aecrev16.html\"))\n",
    "links.extend(parse_links(\"https://ideas.repec.org/s/aea/aecrev17.html\"))\n",
    "links.extend(parse_links(\"https://ideas.repec.org/s/aea/aecrev18.html\"))\n",
    "links.extend(parse_links(\"https://ideas.repec.org/s/aea/aecrev19.html\"))\n",
    "links.extend(parse_links(\"https://ideas.repec.org/s/aea/aecrev20.html\"))\n",
    "links.extend(parse_links(\"https://ideas.repec.org/s/aea/aecrev21.html\"))\n",
    "links.extend(parse_links(\"https://ideas.repec.org/s/aea/aecrev22.html\"))\n",
    "\n",
    "aejmac = len(links)"
   ]
  },
  {
   "cell_type": "code",
   "execution_count": 5,
   "metadata": {},
   "outputs": [
    {
     "name": "stdout",
     "output_type": "stream",
     "text": [
      "aejmac 2160\n"
     ]
    }
   ],
   "source": [
    "print(\"aejmac\",aejmac)"
   ]
  },
  {
   "cell_type": "code",
   "execution_count": 8,
   "metadata": {},
   "outputs": [],
   "source": [
    "def get_abstracts(URL):\n",
    "    \n",
    "    session = requests.Session()\n",
    "    retry = Retry(connect=3, backoff_factor=0.5)\n",
    "    adapter = HTTPAdapter(max_retries=retry)\n",
    "    session.mount('http://', adapter)\n",
    "    session.mount('https://', adapter)\n",
    "    \n",
    "    abstracts = []\n",
    "    \n",
    "    page      = session.get(URL)\n",
    "    soup      = BeautifulSoup(page.text, 'html.parser')\n",
    "    \n",
    "    try:\n",
    "    \n",
    "        abstract  = soup.find('div', id='abstract-body').get_text()\n",
    "    \n",
    "    except:\n",
    "        pass\n",
    "    \n",
    "    try:\n",
    "        \n",
    "        info      = [desc.strip() for desc in \n",
    "                     soup.find(\"li\",class_=\"list-group-item downfree\").descendants if type(desc) == NavigableString]\n",
    "        \n",
    "        abstracts.append({'Author/s': info[0],'Year': info[0].split()[-2], \n",
    "                      'Title': info[1], 'ID': info[3], 'Abstract': abstract})\n",
    "        \n",
    "    except:\n",
    "        pass\n",
    "    \n",
    "    return abstracts"
   ]
  },
  {
   "cell_type": "code",
   "execution_count": 9,
   "metadata": {},
   "outputs": [],
   "source": [
    "with ThreadPoolExecutor(20) as pool:\n",
    "      abstracts = pool.map(get_abstracts, links)\n",
    "\n",
    "aca_abstracts = list(abstracts)\n",
    "\n",
    "with open('top5_data_resub.csv', 'w', newline='') as csvfile:\n",
    "    fieldnames = aca_abstracts[0][0].keys()\n",
    "    writer = csv.DictWriter(csvfile, fieldnames=fieldnames)\n",
    "    writer.writeheader()\n",
    "    for x in range(0,len(aca_abstracts)):\n",
    "        for row in aca_abstracts[x]:\n",
    "            writer.writerow(row)"
   ]
  },
  {
   "cell_type": "markdown",
   "metadata": {},
   "source": [
    "## Downgate html links"
   ]
  },
  {
   "cell_type": "code",
   "execution_count": 13,
   "metadata": {},
   "outputs": [],
   "source": [
    "def get_links(soup):  \n",
    "    \n",
    "    papers = []\n",
    "    for paper in soup.findAll(\"li\",class_=\"list-group-item downgate\"): #downgate here not downfree\n",
    "        papers.append(\"https://ideas.repec.org\"+paper.a.get('href'))\n",
    "                \n",
    "    return(papers)"
   ]
  },
  {
   "cell_type": "code",
   "execution_count": 14,
   "metadata": {},
   "outputs": [],
   "source": [
    "def parse_links(START_URL):\n",
    "    \n",
    "    page   = requests.get(START_URL)\n",
    "    soup   = BeautifulSoup(page.text, 'html.parser')\n",
    "    links = get_links(soup)\n",
    "\n",
    "    return links"
   ]
  },
  {
   "cell_type": "code",
   "execution_count": 15,
   "metadata": {},
   "outputs": [],
   "source": [
    "links = parse_links(\"https://ideas.repec.org/s/ucp/jpolec.html\") # Journal of Political Economy\n",
    "links.extend(parse_links(\"https://ideas.repec.org/s/ucp/jpolec2.html\"))\n",
    "links.extend(parse_links(\"https://ideas.repec.org/s/ucp/jpolec3.html\"))\n",
    "links.extend(parse_links(\"https://ideas.repec.org/s/ucp/jpolec4.html\"))\n",
    "links.extend(parse_links(\"https://ideas.repec.org/s/ucp/jpolec5.html\"))\n",
    "\n",
    "jpolec = len(links) "
   ]
  },
  {
   "cell_type": "code",
   "execution_count": 16,
   "metadata": {},
   "outputs": [],
   "source": [
    "links.extend(parse_links(\"https://ideas.repec.org/s/oup/qjecon.html\")) # The Quarterly Journal of Economics\n",
    "links.extend(parse_links(\"https://ideas.repec.org/s/oup/qjecon2.html\"))\n",
    "links.extend(parse_links(\"https://ideas.repec.org/s/oup/qjecon3.html\"))\n",
    "links.extend(parse_links(\"https://ideas.repec.org/s/oup/qjecon4.html\"))\n",
    "links.extend(parse_links(\"https://ideas.repec.org/s/oup/qjecon5.html\"))\n",
    "\n",
    "qjecon = len(links) - jpolec"
   ]
  },
  {
   "cell_type": "code",
   "execution_count": 17,
   "metadata": {},
   "outputs": [],
   "source": [
    "links.extend(parse_links(\"https://ideas.repec.org/s/oup/restud.html\")) # Review of Economic Studies\n",
    "links.extend(parse_links(\"https://ideas.repec.org/s/oup/restud2.html\"))\n",
    "links.extend(parse_links(\"https://ideas.repec.org/s/oup/restud3.html\"))\n",
    "links.extend(parse_links(\"https://ideas.repec.org/s/oup/restud4.html\"))\n",
    "links.extend(parse_links(\"https://ideas.repec.org/s/oup/restud5.html\"))\n",
    "\n",
    "restud = len(links) - jpolec - qjecon"
   ]
  },
  {
   "cell_type": "code",
   "execution_count": 18,
   "metadata": {},
   "outputs": [],
   "source": [
    "links.extend(parse_links(\"https://ideas.repec.org/s/eee/jfinec.html\")) # Journal of Finance\n",
    "links.extend(parse_links(\"https://ideas.repec.org/s/eee/jfinec2.html\"))\n",
    "links.extend(parse_links(\"https://ideas.repec.org/s/eee/jfinec3.html\"))\n",
    "links.extend(parse_links(\"https://ideas.repec.org/s/eee/jfinec4.html\"))\n",
    "links.extend(parse_links(\"https://ideas.repec.org/s/eee/jfinec5.html\"))\n",
    "links.extend(parse_links(\"https://ideas.repec.org/s/eee/jfinec6.html\"))\n",
    "links.extend(parse_links(\"https://ideas.repec.org/s/eee/jfinec7.html\"))\n",
    "links.extend(parse_links(\"https://ideas.repec.org/s/eee/jfinec8.html\"))\n",
    "links.extend(parse_links(\"https://ideas.repec.org/s/eee/jfinec9.html\"))\n",
    "links.extend(parse_links(\"https://ideas.repec.org/s/eee/jfinec10.html\"))\n",
    "links.extend(parse_links(\"https://ideas.repec.org/s/eee/jfinec11.html\"))\n",
    "\n",
    "jfinec = len(links) - jpolec - qjecon - restud"
   ]
  },
  {
   "cell_type": "code",
   "execution_count": 19,
   "metadata": {},
   "outputs": [
    {
     "name": "stdout",
     "output_type": "stream",
     "text": [
      "jpolec: 1001 qjecon: 1001 restud 1001 jfinec 2201\n",
      "\n",
      "Total: 5204\n"
     ]
    }
   ],
   "source": [
    "print(\"jpolec:\",jpolec,\"qjecon:\",qjecon,\"restud\",restud,\"jfinec\",jfinec)\n",
    "print()\n",
    "print(\"Total:\",len(links))"
   ]
  },
  {
   "cell_type": "code",
   "execution_count": 20,
   "metadata": {},
   "outputs": [],
   "source": [
    "def get_abstracts(URL):\n",
    "    \n",
    "    session = requests.Session()\n",
    "    retry = Retry(connect=3, backoff_factor=0.5)\n",
    "    adapter = HTTPAdapter(max_retries=retry)\n",
    "    session.mount('http://', adapter)\n",
    "    session.mount('https://', adapter)\n",
    "    \n",
    "    abstracts = []\n",
    "    \n",
    "    page      = session.get(URL)\n",
    "    soup      = BeautifulSoup(page.text, 'html.parser')\n",
    "    \n",
    "    try:\n",
    "    \n",
    "        abstract  = soup.find('div', id='abstract-body').get_text()\n",
    "    \n",
    "    except:\n",
    "        pass\n",
    "    \n",
    "    try:\n",
    "        \n",
    "        info      = [desc.strip() for desc in \n",
    "                     soup.find(\"li\",class_=\"list-group-item downgate\").descendants if type(desc) == NavigableString]\n",
    "        \n",
    "        abstracts.append({'Author/s': info[0],'Year': info[0].split()[-2], \n",
    "                      'Title': info[1], 'ID': info[3], 'Abstract': abstract})\n",
    "        \n",
    "    except:\n",
    "        pass\n",
    "    \n",
    "    return abstracts"
   ]
  },
  {
   "cell_type": "code",
   "execution_count": 21,
   "metadata": {},
   "outputs": [],
   "source": [
    "with ThreadPoolExecutor(20) as pool:\n",
    "      abstracts = pool.map(get_abstracts, links)\n",
    "\n",
    "aca_abstracts = list(abstracts)\n",
    "\n",
    "with open('top5_data_resub_2.csv', 'w', newline='') as csvfile:\n",
    "    fieldnames = aca_abstracts[0][0].keys()\n",
    "    writer = csv.DictWriter(csvfile, fieldnames=fieldnames)\n",
    "    writer.writeheader()\n",
    "    for x in range(0,len(aca_abstracts)):\n",
    "        for row in aca_abstracts[x]:\n",
    "            writer.writerow(row)"
   ]
  },
  {
   "cell_type": "code",
   "execution_count": null,
   "metadata": {},
   "outputs": [],
   "source": [
    "# links.extend(parse_links(\"https://ideas.repec.org/s/ucp/jlabec.html\")) #Journal of labour economics\n",
    "# links.extend(parse_links(\"https://ideas.repec.org/s/ucp/jlabec2.html\"))\n",
    "# links.extend(parse_links(\"https://ideas.repec.org/s/ucp/jlabec3.html\"))"
   ]
  },
  {
   "cell_type": "code",
   "execution_count": null,
   "metadata": {},
   "outputs": [],
   "source": [
    "# links.extend(parse_links(\"https://ideas.repec.org/s/eee/jfinec.html\")) # Journal of Financial Economics\n",
    "# links.extend(parse_links(\"https://ideas.repec.org/s/eee/jfinec1.html\"))\n",
    "# links.extend(parse_links(\"https://ideas.repec.org/s/eee/jfinec2.html\"))\n",
    "# links.extend(parse_links(\"https://ideas.repec.org/s/eee/jfinec3.html\"))\n",
    "# links.extend(parse_links(\"https://ideas.repec.org/s/eee/jfinec4.html\"))\n",
    "# links.extend(parse_links(\"https://ideas.repec.org/s/eee/jfinec5.html\"))\n",
    "# links.extend(parse_links(\"https://ideas.repec.org/s/eee/jfinec6.html\"))\n",
    "# links.extend(parse_links(\"https://ideas.repec.org/s/eee/jfinec7.html\"))\n",
    "# links.extend(parse_links(\"https://ideas.repec.org/s/eee/jfinec8.html\"))\n",
    "# links.extend(parse_links(\"https://ideas.repec.org/s/eee/jfinec9.html\"))\n",
    "# links.extend(parse_links(\"https://ideas.repec.org/s/eee/jfinec10.html\"))"
   ]
  },
  {
   "cell_type": "code",
   "execution_count": null,
   "metadata": {},
   "outputs": [],
   "source": [
    "# links.extend(parse_links(\"https://ideas.repec.org/s/eee/moneco.html\")) # Journal of Monetary Economics\n",
    "# links.extend(parse_links(\"https://ideas.repec.org/s/eee/moneco2.html\"))\n",
    "# links.extend(parse_links(\"https://ideas.repec.org/s/eee/moneco3.html\"))\n",
    "# links.extend(parse_links(\"https://ideas.repec.org/s/eee/moneco4.html\"))\n",
    "# links.extend(parse_links(\"https://ideas.repec.org/s/eee/moneco5.html\"))\n",
    "# links.extend(parse_links(\"https://ideas.repec.org/s/eee/moneco6.html\"))\n",
    "# links.extend(parse_links(\"https://ideas.repec.org/s/eee/moneco7.html\"))\n",
    "# links.extend(parse_links(\"https://ideas.repec.org/s/eee/moneco8.html\"))"
   ]
  }
 ],
 "metadata": {
  "kernelspec": {
   "display_name": "Python 3",
   "language": "python",
   "name": "python3"
  },
  "language_info": {
   "codemirror_mode": {
    "name": "ipython",
    "version": 3
   },
   "file_extension": ".py",
   "mimetype": "text/x-python",
   "name": "python",
   "nbconvert_exporter": "python",
   "pygments_lexer": "ipython3",
   "version": "3.6.5"
  },
  "varInspector": {
   "cols": {
    "lenName": 16,
    "lenType": 16,
    "lenVar": 40
   },
   "kernels_config": {
    "python": {
     "delete_cmd_postfix": "",
     "delete_cmd_prefix": "del ",
     "library": "var_list.py",
     "varRefreshCmd": "print(var_dic_list())"
    },
    "r": {
     "delete_cmd_postfix": ") ",
     "delete_cmd_prefix": "rm(",
     "library": "var_list.r",
     "varRefreshCmd": "cat(var_dic_list()) "
    }
   },
   "types_to_exclude": [
    "module",
    "function",
    "builtin_function_or_method",
    "instance",
    "_Feature"
   ],
   "window_display": false
  }
 },
 "nbformat": 4,
 "nbformat_minor": 2
}
